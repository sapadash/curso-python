{
  "nbformat": 4,
  "nbformat_minor": 0,
  "metadata": {
    "colab": {
      "provenance": [],
      "authorship_tag": "ABX9TyPlcu/9dgOYH75FXwRJay55",
      "include_colab_link": true
    },
    "kernelspec": {
      "name": "python3",
      "display_name": "Python 3"
    },
    "language_info": {
      "name": "python"
    }
  },
  "cells": [
    {
      "cell_type": "markdown",
      "metadata": {
        "id": "view-in-github",
        "colab_type": "text"
      },
      "source": [
        "<a href=\"https://colab.research.google.com/github/sapadash/curso-python/blob/main/aula_0.ipynb\" target=\"_parent\"><img src=\"https://colab.research.google.com/assets/colab-badge.svg\" alt=\"Open In Colab\"/></a>"
      ]
    },
    {
      "cell_type": "markdown",
      "source": [
        "### **####PROJETO: ajuste de funções de picos de ressonâncias de dois múons com dados públicos do CMS**"
      ],
      "metadata": {
        "id": "hUcj-_SapFa_"
      }
    },
    {
      "cell_type": "code",
      "execution_count": null,
      "metadata": {
        "colab": {
          "base_uri": "https://localhost:8080/"
        },
        "id": "N-LnVEvMQF62",
        "outputId": "4c208e27-28da-4c74-824d-e30a7d23f1e2"
      },
      "outputs": [
        {
          "output_type": "stream",
          "name": "stdout",
          "text": [
            "hello world\n"
          ]
        }
      ],
      "source": [
        "print ('hello world')"
      ]
    },
    {
      "cell_type": "code",
      "source": [
        "a=15"
      ],
      "metadata": {
        "id": "UFHAjeurRQin"
      },
      "execution_count": null,
      "outputs": []
    },
    {
      "cell_type": "code",
      "source": [
        "a"
      ],
      "metadata": {
        "colab": {
          "base_uri": "https://localhost:8080/"
        },
        "id": "O5IyAMV7Rav-",
        "outputId": "5fe6c395-5f5b-4d97-ffe9-5f9102644c51"
      },
      "execution_count": null,
      "outputs": [
        {
          "output_type": "execute_result",
          "data": {
            "text/plain": [
              "15"
            ]
          },
          "metadata": {},
          "execution_count": 3
        }
      ]
    },
    {
      "cell_type": "code",
      "source": [
        "a*2"
      ],
      "metadata": {
        "colab": {
          "base_uri": "https://localhost:8080/"
        },
        "id": "N53EY97dRcXv",
        "outputId": "c63081bb-f3b9-4853-b5c4-84c07ab59069"
      },
      "execution_count": null,
      "outputs": [
        {
          "output_type": "execute_result",
          "data": {
            "text/plain": [
              "30"
            ]
          },
          "metadata": {},
          "execution_count": 4
        }
      ]
    },
    {
      "cell_type": "code",
      "source": [
        "input ('b')"
      ],
      "metadata": {
        "colab": {
          "base_uri": "https://localhost:8080/",
          "height": 53
        },
        "id": "EPl45lUdRe39",
        "outputId": "6a7ec472-930e-4e32-da5f-ec8139145f20"
      },
      "execution_count": null,
      "outputs": [
        {
          "name": "stdout",
          "output_type": "stream",
          "text": [
            "b12\n"
          ]
        },
        {
          "output_type": "execute_result",
          "data": {
            "text/plain": [
              "'12'"
            ],
            "application/vnd.google.colaboratory.intrinsic+json": {
              "type": "string"
            }
          },
          "metadata": {},
          "execution_count": 9
        }
      ]
    },
    {
      "cell_type": "code",
      "source": [
        "nome=input('qual seu nome?')"
      ],
      "metadata": {
        "colab": {
          "base_uri": "https://localhost:8080/"
        },
        "id": "BF3Z14RnRmAi",
        "outputId": "3eebb317-3be4-41b7-ae52-274d119e5e3f"
      },
      "execution_count": null,
      "outputs": [
        {
          "name": "stdout",
          "output_type": "stream",
          "text": [
            "qual seu nome?lestat\n"
          ]
        }
      ]
    },
    {
      "cell_type": "code",
      "source": [
        "curso=input('qual seu curso?')"
      ],
      "metadata": {
        "colab": {
          "base_uri": "https://localhost:8080/"
        },
        "id": "tsSeGacjSuvp",
        "outputId": "5b9ef92c-be37-4795-d19e-653d2be920e0"
      },
      "execution_count": null,
      "outputs": [
        {
          "name": "stdout",
          "output_type": "stream",
          "text": [
            "qual seu curso?engenharia da pesca\n"
          ]
        }
      ]
    },
    {
      "cell_type": "code",
      "source": [
        "idade=(int(input('qual sua idade?')))"
      ],
      "metadata": {
        "colab": {
          "base_uri": "https://localhost:8080/"
        },
        "id": "SmT1yBzCS09h",
        "outputId": "13112897-ea69-4e7a-ae9e-404bba488360"
      },
      "execution_count": null,
      "outputs": [
        {
          "name": "stdout",
          "output_type": "stream",
          "text": [
            "qual sua idade?530\n"
          ]
        }
      ]
    },
    {
      "cell_type": "code",
      "source": [
        "idade2=(int(input('qual sua idade?')))"
      ],
      "metadata": {
        "colab": {
          "base_uri": "https://localhost:8080/"
        },
        "id": "hisxTK6hVG3p",
        "outputId": "1b7dcc40-63da-4fe2-d6d9-d5ed4c6ea9ba"
      },
      "execution_count": null,
      "outputs": [
        {
          "name": "stdout",
          "output_type": "stream",
          "text": [
            "qual sua idade?70\n"
          ]
        }
      ]
    },
    {
      "cell_type": "code",
      "source": [
        "print(idade+idade2)"
      ],
      "metadata": {
        "colab": {
          "base_uri": "https://localhost:8080/"
        },
        "id": "oErH-NSQVKb4",
        "outputId": "2a5038a9-7ee5-44c5-d66f-3e007ae33045"
      },
      "execution_count": null,
      "outputs": [
        {
          "output_type": "stream",
          "name": "stdout",
          "text": [
            "600\n"
          ]
        }
      ]
    },
    {
      "cell_type": "code",
      "source": [
        "print(nome)"
      ],
      "metadata": {
        "colab": {
          "base_uri": "https://localhost:8080/"
        },
        "id": "y7e7JiGGSZ93",
        "outputId": "2dc1e5dc-64ba-4a89-b4d0-05a835ce000c"
      },
      "execution_count": null,
      "outputs": [
        {
          "output_type": "stream",
          "name": "stdout",
          "text": [
            " hhhh\n"
          ]
        }
      ]
    },
    {
      "cell_type": "code",
      "source": [
        "nome"
      ],
      "metadata": {
        "colab": {
          "base_uri": "https://localhost:8080/",
          "height": 35
        },
        "id": "lfd2-h_JSoKU",
        "outputId": "ee07569a-e97a-4c9a-e680-ecb5afbd53ca"
      },
      "execution_count": null,
      "outputs": [
        {
          "output_type": "execute_result",
          "data": {
            "text/plain": [
              "' hhhh'"
            ],
            "application/vnd.google.colaboratory.intrinsic+json": {
              "type": "string"
            }
          },
          "metadata": {},
          "execution_count": 16
        }
      ]
    },
    {
      "cell_type": "code",
      "source": [
        "print(nome, idade, curso, 'louis come back please')"
      ],
      "metadata": {
        "colab": {
          "base_uri": "https://localhost:8080/"
        },
        "id": "6F3b0iY9SsNA",
        "outputId": "5a1a22a0-bc70-4672-ba81-5f04e18d8ec8"
      },
      "execution_count": null,
      "outputs": [
        {
          "output_type": "stream",
          "name": "stdout",
          "text": [
            "lestat 530 engenharia da pesca louis come back please\n"
          ]
        }
      ]
    },
    {
      "cell_type": "code",
      "source": [
        "#area do quadrado\n",
        "\n",
        "lado=float(input('lado:'))\n",
        "\n",
        "area = lado**2\n",
        "print('a área do quadrado é:', area, 'm')"
      ],
      "metadata": {
        "colab": {
          "base_uri": "https://localhost:8080/"
        },
        "id": "qQCWtpTRVoyE",
        "outputId": "9b28e71f-2891-42e8-bc47-918f9c78a257"
      },
      "execution_count": null,
      "outputs": [
        {
          "output_type": "stream",
          "name": "stdout",
          "text": [
            "lado:9\n",
            "a área do quadrado é: 81.0 m\n"
          ]
        }
      ]
    },
    {
      "cell_type": "code",
      "source": [
        "print(f'a área do quadrado é igual a {area}, pois ele tem um lado de {lado})"
      ],
      "metadata": {
        "colab": {
          "base_uri": "https://localhost:8080/",
          "height": 106
        },
        "id": "htCbp6SmaDqK",
        "outputId": "2d456f03-ab1e-4a1a-8138-e1ca35ebc04c"
      },
      "execution_count": null,
      "outputs": [
        {
          "output_type": "error",
          "ename": "SyntaxError",
          "evalue": "unterminated f-string literal (detected at line 1) (ipython-input-1378811508.py, line 1)",
          "traceback": [
            "\u001b[0;36m  File \u001b[0;32m\"/tmp/ipython-input-1378811508.py\"\u001b[0;36m, line \u001b[0;32m1\u001b[0m\n\u001b[0;31m    print(f'a área do quadrado é igual a {area}, pois ele tem um lado de {lado})\u001b[0m\n\u001b[0m          ^\u001b[0m\n\u001b[0;31mSyntaxError\u001b[0m\u001b[0;31m:\u001b[0m unterminated f-string literal (detected at line 1)\n"
          ]
        }
      ]
    },
    {
      "cell_type": "code",
      "source": [
        "largura=17\n",
        "altura=12.0\n",
        "delimitador=\"lavinia \"\n",
        "\n",
        "print(largura/2)\n",
        "print(largura/2.0)\n",
        "print(altura/3)\n",
        "print(1+2*5)\n",
        "print(delimitador*5)"
      ],
      "metadata": {
        "colab": {
          "base_uri": "https://localhost:8080/"
        },
        "id": "bflYY8Yzbiac",
        "outputId": "9b8bf1ab-de88-4bb2-8978-bc9b5625ff53"
      },
      "execution_count": null,
      "outputs": [
        {
          "output_type": "stream",
          "name": "stdout",
          "text": [
            "8.5\n",
            "8.5\n",
            "4.0\n",
            "11\n",
            "lavinia lavinia lavinia lavinia lavinia \n"
          ]
        }
      ]
    },
    {
      "cell_type": "code",
      "source": [
        "##exercicio 2\n",
        "## v=4/3pir³\n",
        "\n",
        "raio=5\n",
        "pi=3.14\n",
        "volume= (4/3)*pi*raio**3\n",
        "print(f'o volume da esfera é igual a: {volume}')"
      ],
      "metadata": {
        "colab": {
          "base_uri": "https://localhost:8080/"
        },
        "id": "kKLcP0ymdtnp",
        "outputId": "d75859b2-e49a-4231-95df-87198690b741"
      },
      "execution_count": null,
      "outputs": [
        {
          "output_type": "stream",
          "name": "stdout",
          "text": [
            "o volume da esfera é igual a: 523.3333333333334\n"
          ]
        }
      ]
    },
    {
      "cell_type": "code",
      "source": [
        "type(0.969)"
      ],
      "metadata": {
        "colab": {
          "base_uri": "https://localhost:8080/"
        },
        "id": "hr6hO7ZyqVAb",
        "outputId": "35dc9a9c-181f-4673-ab91-df0456056503"
      },
      "execution_count": null,
      "outputs": [
        {
          "output_type": "execute_result",
          "data": {
            "text/plain": [
              "float"
            ]
          },
          "metadata": {},
          "execution_count": 18
        }
      ]
    },
    {
      "cell_type": "code",
      "source": [
        "int(2.8)"
      ],
      "metadata": {
        "colab": {
          "base_uri": "https://localhost:8080/"
        },
        "id": "5h4RStqBrFV2",
        "outputId": "6edebb01-a216-478e-8608-505291d105fd"
      },
      "execution_count": null,
      "outputs": [
        {
          "output_type": "execute_result",
          "data": {
            "text/plain": [
              "2"
            ]
          },
          "metadata": {},
          "execution_count": 19
        }
      ]
    },
    {
      "cell_type": "code",
      "source": [
        "idade = input ('qual a sua idade')"
      ],
      "metadata": {
        "colab": {
          "base_uri": "https://localhost:8080/"
        },
        "id": "21vy5Ha_rhwj",
        "outputId": "ea125be9-6d09-475c-e755-2520898723a3"
      },
      "execution_count": null,
      "outputs": [
        {
          "name": "stdout",
          "output_type": "stream",
          "text": [
            "qual a sua idade3\n"
          ]
        }
      ]
    },
    {
      "cell_type": "code",
      "source": [
        "type(idade)"
      ],
      "metadata": {
        "colab": {
          "base_uri": "https://localhost:8080/"
        },
        "id": "mMRNRJINraji",
        "outputId": "5aa5c284-3631-4078-b381-0f43d9601348"
      },
      "execution_count": null,
      "outputs": [
        {
          "output_type": "execute_result",
          "data": {
            "text/plain": [
              "str"
            ]
          },
          "metadata": {},
          "execution_count": 22
        }
      ]
    },
    {
      "cell_type": "code",
      "source": [
        "float(32)"
      ],
      "metadata": {
        "colab": {
          "base_uri": "https://localhost:8080/"
        },
        "id": "BPwNDWB9ruUl",
        "outputId": "2475b799-94df-45d6-ddfb-cf5966401102"
      },
      "execution_count": null,
      "outputs": [
        {
          "output_type": "execute_result",
          "data": {
            "text/plain": [
              "32.0"
            ]
          },
          "metadata": {},
          "execution_count": 23
        }
      ]
    },
    {
      "cell_type": "code",
      "source": [
        "import math"
      ],
      "metadata": {
        "id": "Pb-e8SpSr9rw"
      },
      "execution_count": null,
      "outputs": []
    },
    {
      "cell_type": "code",
      "source": [
        "print(math)"
      ],
      "metadata": {
        "colab": {
          "base_uri": "https://localhost:8080/"
        },
        "id": "UoEozPgbr_yB",
        "outputId": "b6410fce-5355-450d-cd69-815a348b0cec"
      },
      "execution_count": null,
      "outputs": [
        {
          "output_type": "stream",
          "name": "stdout",
          "text": [
            "<module 'math' (built-in)>\n"
          ]
        }
      ]
    },
    {
      "cell_type": "code",
      "source": [
        "cateto_oposto=4\n",
        "cateto_adjacente=2\n",
        "tg_theta1=cateto_oposto/cateto_adjacente\n",
        "theta1=math.atan(tg_theta1)\n",
        "print(theta1, 'em radianos')"
      ],
      "metadata": {
        "colab": {
          "base_uri": "https://localhost:8080/"
        },
        "id": "yRiedxGCsmVI",
        "outputId": "da908ec3-cbfb-4ed1-e9c7-23266dedde40"
      },
      "execution_count": null,
      "outputs": [
        {
          "output_type": "stream",
          "name": "stdout",
          "text": [
            "1.1071487177940904 em radianos\n"
          ]
        }
      ]
    },
    {
      "cell_type": "code",
      "source": [
        "math.sqrt(theta1)"
      ],
      "metadata": {
        "colab": {
          "base_uri": "https://localhost:8080/"
        },
        "id": "oPUq_psMuhp8",
        "outputId": "6bd5d0b9-779c-4b76-af4d-0c58de31b158"
      },
      "execution_count": null,
      "outputs": [
        {
          "output_type": "execute_result",
          "data": {
            "text/plain": [
              "1.0522113465431222"
            ]
          },
          "metadata": {},
          "execution_count": 44
        }
      ]
    },
    {
      "cell_type": "code",
      "source": [
        "type(theta1)"
      ],
      "metadata": {
        "colab": {
          "base_uri": "https://localhost:8080/"
        },
        "id": "_6QSvqOFuE1N",
        "outputId": "aad21287-73ea-451a-f007-18bffd8c14e3"
      },
      "execution_count": null,
      "outputs": [
        {
          "output_type": "execute_result",
          "data": {
            "text/plain": [
              "float"
            ]
          },
          "metadata": {},
          "execution_count": 45
        }
      ]
    },
    {
      "cell_type": "code",
      "source": [
        "math.degrees(theta1)"
      ],
      "metadata": {
        "colab": {
          "base_uri": "https://localhost:8080/"
        },
        "id": "Mq8H5izpuJfZ",
        "outputId": "fdf6175e-6f90-4ed0-cf14-9903994c8906"
      },
      "execution_count": null,
      "outputs": [
        {
          "output_type": "execute_result",
          "data": {
            "text/plain": [
              "63.43494882292201"
            ]
          },
          "metadata": {},
          "execution_count": 46
        }
      ]
    },
    {
      "cell_type": "code",
      "source": [
        "theta_graus1=theta1*180/math.pi\n",
        "print(theta_graus1)"
      ],
      "metadata": {
        "colab": {
          "base_uri": "https://localhost:8080/"
        },
        "id": "_z1JvNjtxDI0",
        "outputId": "0c51fbbe-23e6-4a44-96fb-9c62957f161c"
      },
      "execution_count": null,
      "outputs": [
        {
          "output_type": "stream",
          "name": "stdout",
          "text": [
            "63.43494882292201\n"
          ]
        }
      ]
    },
    {
      "cell_type": "code",
      "source": [
        "print(f'o valor é {theta_graus1:.3f}')"
      ],
      "metadata": {
        "colab": {
          "base_uri": "https://localhost:8080/"
        },
        "id": "3Wc2_-PExXAp",
        "outputId": "939d30d9-3664-425e-b2a8-18421b17c9fe"
      },
      "execution_count": null,
      "outputs": [
        {
          "output_type": "stream",
          "name": "stdout",
          "text": [
            "o valor é 63.435\n"
          ]
        }
      ]
    },
    {
      "cell_type": "code",
      "source": [
        "math.ceil(theta_graus1)"
      ],
      "metadata": {
        "colab": {
          "base_uri": "https://localhost:8080/"
        },
        "id": "LunLTvfHx-cx",
        "outputId": "b4bc46d7-423e-4cb3-e9a0-7cbf976f2b3a"
      },
      "execution_count": null,
      "outputs": [
        {
          "output_type": "execute_result",
          "data": {
            "text/plain": [
              "64"
            ]
          },
          "metadata": {},
          "execution_count": 62
        }
      ]
    },
    {
      "cell_type": "code",
      "source": [
        "math.pi"
      ],
      "metadata": {
        "colab": {
          "base_uri": "https://localhost:8080/"
        },
        "id": "A8jIFYbNtXWv",
        "outputId": "5d6a7a64-a20a-412f-b707-a5b51da67fc0"
      },
      "execution_count": null,
      "outputs": [
        {
          "output_type": "execute_result",
          "data": {
            "text/plain": [
              "3.141592653589793"
            ]
          },
          "metadata": {},
          "execution_count": 31
        }
      ]
    },
    {
      "cell_type": "code",
      "source": [
        "math.ceil(pi)"
      ],
      "metadata": {
        "colab": {
          "base_uri": "https://localhost:8080/"
        },
        "id": "S3ozYLHIx4pE",
        "outputId": "63eaa587-0a41-4504-d722-15a06bf11f04"
      },
      "execution_count": null,
      "outputs": [
        {
          "output_type": "execute_result",
          "data": {
            "text/plain": [
              "4"
            ]
          },
          "metadata": {},
          "execution_count": 56
        }
      ]
    },
    {
      "cell_type": "code",
      "source": [
        "cos_theta=math.sqrt(2)/2\n",
        "theta=math.acos(cos_theta)\n",
        "math.degrees(theta)"
      ],
      "metadata": {
        "colab": {
          "base_uri": "https://localhost:8080/"
        },
        "id": "l3yCUfh0uqhE",
        "outputId": "4f6a59e0-05a9-4434-b518-f10654fd6692"
      },
      "execution_count": null,
      "outputs": [
        {
          "output_type": "execute_result",
          "data": {
            "text/plain": [
              "45.0"
            ]
          },
          "metadata": {},
          "execution_count": 47
        }
      ]
    },
    {
      "cell_type": "code",
      "source": [
        "theta_graus2=theta*180/math.pi\n",
        "print(theta_graus2)"
      ],
      "metadata": {
        "colab": {
          "base_uri": "https://localhost:8080/"
        },
        "id": "rN172IQqvTmI",
        "outputId": "a64bb565-66e4-4897-84fc-5025a3f4c7e4"
      },
      "execution_count": null,
      "outputs": [
        {
          "output_type": "stream",
          "name": "stdout",
          "text": [
            "45.0\n"
          ]
        }
      ]
    },
    {
      "cell_type": "code",
      "source": [
        "print(f'o valor é {theta_graus2:.3f}')"
      ],
      "metadata": {
        "colab": {
          "base_uri": "https://localhost:8080/"
        },
        "id": "Ro2R_cUPwhdg",
        "outputId": "e748f6b5-61b4-4cf4-c076-cc5277bd95be"
      },
      "execution_count": null,
      "outputs": [
        {
          "output_type": "stream",
          "name": "stdout",
          "text": [
            "o valor é 45.000\n"
          ]
        }
      ]
    },
    {
      "cell_type": "code",
      "source": [
        "math.degrees(math.acos(math.sqrt(2)/2))"
      ],
      "metadata": {
        "colab": {
          "base_uri": "https://localhost:8080/"
        },
        "id": "eZMXg55zyTrK",
        "outputId": "f07ba6e1-c921-4f27-a29b-354d8d09a459"
      },
      "execution_count": null,
      "outputs": [
        {
          "output_type": "execute_result",
          "data": {
            "text/plain": [
              "45.0"
            ]
          },
          "metadata": {},
          "execution_count": 64
        }
      ]
    },
    {
      "cell_type": "code",
      "source": [
        "x=math.sin((theta_graus/360.0)*2*math.pi)\n",
        "print(x)"
      ],
      "metadata": {
        "colab": {
          "base_uri": "https://localhost:8080/"
        },
        "id": "Tyd09oCnz0bg",
        "outputId": "51532427-ab5f-4dfb-f7a7-ecf12610c887"
      },
      "execution_count": null,
      "outputs": [
        {
          "output_type": "stream",
          "name": "stdout",
          "text": [
            "0.8944271909999159\n"
          ]
        }
      ]
    },
    {
      "cell_type": "code",
      "source": [
        "x2=math.sin(math.radians(theta_graus))\n",
        "print(x2)"
      ],
      "metadata": {
        "colab": {
          "base_uri": "https://localhost:8080/"
        },
        "id": "IO00aJ5w1Gfb",
        "outputId": "6eb0a11e-5f36-473a-ad85-c3df663a26e4"
      },
      "execution_count": null,
      "outputs": [
        {
          "output_type": "stream",
          "name": "stdout",
          "text": [
            "0.8944271909999159\n"
          ]
        }
      ]
    },
    {
      "cell_type": "code",
      "source": [
        "def print_iliad_book_1():\n",
        "    print('Sing, oh muse,')\n",
        "    print('of the rage of Achilles, son of Peleus,')\n",
        "    print('who brought countless ills upon the Acheans.')\n",
        "print_iliad_book_1()"
      ],
      "metadata": {
        "colab": {
          "base_uri": "https://localhost:8080/"
        },
        "id": "npaIc11V3oay",
        "outputId": "df59122c-8c7b-4c91-99d3-61357803d9bd"
      },
      "execution_count": null,
      "outputs": [
        {
          "output_type": "stream",
          "name": "stdout",
          "text": [
            "Sing, oh muse,\n",
            "of the rage of Achilles, son of Peleus,\n",
            "who brought countless ills upon the Acheans.\n"
          ]
        }
      ]
    },
    {
      "cell_type": "code",
      "source": [
        "type(print_iliad_book_1)"
      ],
      "metadata": {
        "colab": {
          "base_uri": "https://localhost:8080/"
        },
        "id": "C-VQ2liT4al3",
        "outputId": "1c01d5c6-c49a-449a-fe1a-166fd7f7f567"
      },
      "execution_count": null,
      "outputs": [
        {
          "output_type": "execute_result",
          "data": {
            "text/plain": [
              "function"
            ]
          },
          "metadata": {},
          "execution_count": 83
        }
      ]
    },
    {
      "cell_type": "markdown",
      "source": [
        "EXERCÍCIOS"
      ],
      "metadata": {
        "id": "udmE88Rp-0wC"
      }
    },
    {
      "cell_type": "code",
      "source": [
        "def multi(a,b):\n",
        "  m = a**b\n",
        "  print(m)\n",
        "  print(type(m))\n",
        "\n",
        "multi(2,3)"
      ],
      "metadata": {
        "id": "vbbKd3-Z81aD",
        "colab": {
          "base_uri": "https://localhost:8080/"
        },
        "outputId": "65eeeade-57b2-409b-bb81-1b9a73b9cdbe"
      },
      "execution_count": null,
      "outputs": [
        {
          "output_type": "stream",
          "name": "stdout",
          "text": [
            "8\n",
            "<class 'int'>\n"
          ]
        }
      ]
    },
    {
      "cell_type": "code",
      "source": [
        "def vel_med(x,x0,t):\n",
        "  s=x-x0\n",
        "  vel=s/t\n",
        "  print(vel,'m/s')\n",
        "\n",
        "vel_med(3,1,2)"
      ],
      "metadata": {
        "colab": {
          "base_uri": "https://localhost:8080/"
        },
        "id": "znhYKunWCfdE",
        "outputId": "5e347df1-7e76-4957-aadb-fe84c721a325"
      },
      "execution_count": null,
      "outputs": [
        {
          "output_type": "stream",
          "name": "stdout",
          "text": [
            "1.0 m/s\n"
          ]
        }
      ]
    },
    {
      "cell_type": "code",
      "source": [
        "def vel(a,t):\n",
        "  v=a*t\n",
        "  print(v,'m/s')\n",
        "\n",
        "vel(0.5,2)"
      ],
      "metadata": {
        "colab": {
          "base_uri": "https://localhost:8080/"
        },
        "id": "07623i98E4o3",
        "outputId": "617dc59c-3a31-48d2-8b48-40ba9facdec0"
      },
      "execution_count": null,
      "outputs": [
        {
          "output_type": "stream",
          "name": "stdout",
          "text": [
            "1.0 m/s\n"
          ]
        }
      ]
    },
    {
      "cell_type": "code",
      "source": [
        "import math\n",
        "def ang_z(b,c):\n",
        "  a=math.sqrt(b**2+c**2)\n",
        "  cos_theta=b/a\n",
        "  theta=math.acos(cos_theta)\n",
        "  math.degrees(theta)\n",
        "  theta_graus=theta*180/math.pi\n",
        "  print(theta_graus)\n",
        "\n",
        "\n",
        "ang_z(3,4)"
      ],
      "metadata": {
        "colab": {
          "base_uri": "https://localhost:8080/"
        },
        "id": "-tDwLYMdFpBs",
        "outputId": "b950534e-f3e1-4812-b4db-e165bdbee64e"
      },
      "execution_count": null,
      "outputs": [
        {
          "output_type": "stream",
          "name": "stdout",
          "text": [
            "53.13010235415598\n"
          ]
        }
      ]
    },
    {
      "cell_type": "code",
      "source": [
        "#def conversão_de_medida():"
      ],
      "metadata": {
        "id": "nHXw7NQvKkIP"
      },
      "execution_count": null,
      "outputs": []
    }
  ]
}